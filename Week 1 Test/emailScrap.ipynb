{
 "cells": [
  {
   "cell_type": "markdown",
   "metadata": {},
   "source": [
    "# All Imports"
   ]
  },
  {
   "cell_type": "code",
   "execution_count": 122,
   "metadata": {},
   "outputs": [],
   "source": [
    "import re # regular expressions\n",
    "import json # json"
   ]
  },
  {
   "cell_type": "markdown",
   "metadata": {},
   "source": [
    "## Reading txt file"
   ]
  },
  {
   "cell_type": "code",
   "execution_count": 123,
   "metadata": {},
   "outputs": [],
   "source": [
    "# read websiteData.txt file with encoding utf-8 otherwise encoding error\n",
    "\n",
    "with open ('websiteData.txt', 'r',encoding='utf-8') as f: \n",
    "    lines=f.readlines() # readlines() returns a list of strings, one for each line in the file\n",
    "    \n",
    "    # for line in lines:    # testing if the file is read correctly\n",
    "    #     print(line)\n"
   ]
  },
  {
   "cell_type": "markdown",
   "metadata": {},
   "source": [
    "## Extract emails from txt file"
   ]
  },
  {
   "cell_type": "code",
   "execution_count": 124,
   "metadata": {},
   "outputs": [
    {
     "name": "stdout",
     "output_type": "stream",
     "text": [
      "['Jobs@linkedin.com', 'gregor@mxanalytics.com', 'susan.daniels@moo.com', 'aayush@deepminds.xyz', 'hr@vancuemonics.com', 'syneca.gregory@gmail.com', 'realtors@bbn.com', 'info@content.linkedin.com']\n"
     ]
    }
   ],
   "source": [
    "# use regular expression to find email address\n",
    "# findall >>\tReturns a list containing all matches\n",
    "# to find email address :\n",
    "# \\w for word character,digit,underscore\n",
    "# + for one or more word character,digit,underscore, period, dash\n",
    "# @ for @ symbol\n",
    "# \\. for . symbol (generally used to separate domain name from the top level domain ) and first_name(.)second_name(@)domain_name(.)top_level_domain\n",
    "# - for - symbol (used to separate the first name from the last name)\n",
    "\n",
    "\n",
    "string=str(lines) # convert the list to a string\n",
    "email_list=re.findall('[\\w\\.=-]+@[\\w\\.-]+',string)  # find all email addresses in the string and store in email_list\n",
    "\n",
    "print(email_list) # print the list of email addresses\n",
    "\n"
   ]
  },
  {
   "cell_type": "markdown",
   "metadata": {},
   "source": [
    "## Count and type \n"
   ]
  },
  {
   "cell_type": "code",
   "execution_count": 125,
   "metadata": {},
   "outputs": [],
   "source": [
    "#create dictionary with key as email address and value as the number of times the email address appears in the list\n",
    "# email_list.count(email) # Count the number of times it appears in the list \n",
    "\n",
    "\n",
    "def email_type(em): # function to categorize the email address as Human or Non-Human\n",
    "    if (re.search('[\\w-]+\\.[\\w-]+', em.split('@')[0])) or len(em.split('@')[0])>=8: # if the first part of the email address is a word character,digit,underscore, dash and contain period (.) in between then it is a human email address  else it is a non-human email address    Also  if the first part of the email address is more than 8 characters then it is a human email address\n",
    "        return 'Human'\n",
    "    else:\n",
    "        return 'Non-Human'\n",
    "\n",
    "\n",
    "# Uding dictionary  comprehension\n",
    "email_dict={email:{'Occurance':email_list.count(email),'EmailType':email_type(email)} for email in email_list} # create a dictionary with key as email address and value as a dictionary with key as Occurance and EmailType\n",
    "\n",
    "\n",
    "# ## Simplied version\n",
    "\n",
    "# email_dict={} # create an empty dictionary\n",
    "# for email in email_list:\n",
    "#     email_dict[email]={'Occurance':email_list.count(email),'EmailType':email_type(email)} # add the email address and the number of times it appears in the list to the dictionary\n",
    "\n",
    "\n",
    "# print(email_dict) # print the dictionary\n",
    "\n"
   ]
  },
  {
   "cell_type": "markdown",
   "metadata": {},
   "source": [
    "## Create Json file"
   ]
  },
  {
   "cell_type": "code",
   "execution_count": 126,
   "metadata": {},
   "outputs": [],
   "source": [
    "# Convert email_dict to result.json file\n",
    "with open('result.json','w') as f: # create a new file with name result.json\n",
    "    json.dump(email_dict,f,separators=(',', ':') )# dump the email_dict dictionary to the file result.json. The separators are used to separate the key and value in the dictionary and get rid of unwanted white spaces\n"
   ]
  },
  {
   "cell_type": "code",
   "execution_count": null,
   "metadata": {},
   "outputs": [],
   "source": []
  }
 ],
 "metadata": {
  "interpreter": {
   "hash": "f0f26b950dd79c00522a78720b1b6ccb3faa3506bf7e5aa4b7c6108eb0918fde"
  },
  "kernelspec": {
   "display_name": "Python 3.10.2 ('Fortsenv': venv)",
   "language": "python",
   "name": "python3"
  },
  "language_info": {
   "codemirror_mode": {
    "name": "ipython",
    "version": 3
   },
   "file_extension": ".py",
   "mimetype": "text/x-python",
   "name": "python",
   "nbconvert_exporter": "python",
   "pygments_lexer": "ipython3",
   "version": "3.10.2"
  },
  "orig_nbformat": 4
 },
 "nbformat": 4,
 "nbformat_minor": 2
}
